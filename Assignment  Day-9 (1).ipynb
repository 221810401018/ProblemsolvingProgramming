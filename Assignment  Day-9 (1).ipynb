{
 "cells": [
  {
   "cell_type": "code",
   "execution_count": 8,
   "metadata": {},
   "outputs": [
    {
     "name": "stdout",
     "output_type": "stream",
     "text": [
      "enter number5\n",
      "3 2 1 1 0\n"
     ]
    }
   ],
   "source": [
    "def q1(x):\n",
    "    while x-2!=0:\n",
    "        a=0\n",
    "        b=1\n",
    "        c=0\n",
    "        for i in range(x-2):\n",
    "            c=a+b\n",
    "            a=b\n",
    "            b=c\n",
    "        print(c,end=\" \")\n",
    "        x-=1\n",
    "    print('1 0')\n",
    "    return\n",
    "q1(int(input(\"enter number\")))"
   ]
  },
  {
   "cell_type": "code",
   "execution_count": 9,
   "metadata": {},
   "outputs": [
    {
     "name": "stdout",
     "output_type": "stream",
     "text": [
      "no of values5\n",
      "44\n",
      "66\n",
      "44\n",
      "99\n",
      "66\n"
     ]
    },
    {
     "data": {
      "text/plain": [
       "99"
      ]
     },
     "execution_count": 9,
     "metadata": {},
     "output_type": "execute_result"
    }
   ],
   "source": [
    "def Q2(n):\n",
    "    a=[]\n",
    "    s=0\n",
    "    for i in range(n):\n",
    "        a.append(int(input()))\n",
    "    for i in range(n):\n",
    "        c=0\n",
    "        for j in range(n):\n",
    "            if i!=j:\n",
    "                if a[i]==a[j]:\n",
    "                    c+=1\n",
    "        if c==0:\n",
    "            s=s+a[i]\n",
    "    return s\n",
    "Q2(int(input(\"no of values\")))\n"
   ]
  },
  {
   "cell_type": "code",
   "execution_count": 10,
   "metadata": {},
   "outputs": [
    {
     "name": "stdout",
     "output_type": "stream",
     "text": [
      "enter str:fjdhfdffsdfsd dfjdfdshf\n",
      "f d\n",
      "j f\n",
      "d j\n",
      "h d\n",
      "f f\n",
      "d d\n",
      "f s\n",
      "f h\n",
      "s f\n",
      "d *\n",
      "f *\n",
      "s *\n",
      "d *\n"
     ]
    }
   ],
   "source": [
    "def Q3(a,b):\n",
    "    if len(a)<=len(b):\n",
    "        n=len(a)\n",
    "        k=len(b)\n",
    "    else:\n",
    "        n=len(b)\n",
    "        k=len(a)\n",
    "    for i in range(n):\n",
    "        print(a[i],b[i])\n",
    "    for j in range(n,k):\n",
    "        if(len(a)<=len(b)):\n",
    "            print(b[j],'*')\n",
    "        else:\n",
    "            print(a[j],'*')\n",
    "    return\n",
    "x=str(input(\"enter str:\"))\n",
    "x=x.split()\n",
    "Q3(x[0],x[1])"
   ]
  },
  {
   "cell_type": "code",
   "execution_count": 11,
   "metadata": {},
   "outputs": [
    {
     "name": "stdout",
     "output_type": "stream",
     "text": [
      "enter str:vin ay\n",
      "VIN\n"
     ]
    }
   ],
   "source": [
    "def Q4(a,b):\n",
    "    if len(a)>=len(b):\n",
    "        print(a.upper())\n",
    "    else:\n",
    "        print(b.upper())\n",
    "    return\n",
    "x=str(input(\"enter str:\"))\n",
    "x=x.split()\n",
    "Q4(x[0],x[1])"
   ]
  },
  {
   "cell_type": "code",
   "execution_count": 12,
   "metadata": {},
   "outputs": [
    {
     "name": "stdout",
     "output_type": "stream",
     "text": [
      "enter str:Nallabelly vinay\n",
      "NALLABELLY "
     ]
    }
   ],
   "source": [
    "def Q5_1(a):\n",
    "    a=a.split()\n",
    "    for i in range (len(a)):\n",
    "        if a[i].istitle()==True:\n",
    "            print(a[i].upper(),end= \" \")\n",
    "    return\n",
    "x=str(input(\"enter str:\"))\n",
    "Q5_1(x)"
   ]
  },
  {
   "cell_type": "code",
   "execution_count": 13,
   "metadata": {},
   "outputs": [
    {
     "name": "stdout",
     "output_type": "stream",
     "text": [
      "enter num1234\n",
      "*\n",
      "**\n",
      "***\n",
      "****\n"
     ]
    }
   ],
   "source": [
    "def Q7(n):\n",
    "    for i in range(len(n)):\n",
    "        n[i]=int(n[i])\n",
    "    for i in range(len(n)):\n",
    "        for j in range(n[i]):\n",
    "            print(\"*\",end=\"\")\n",
    "        print(\"\")\n",
    "    return\n",
    "x=input(\"enter num\")\n",
    "Q7(list(x))"
   ]
  },
  {
   "cell_type": "code",
   "execution_count": 31,
   "metadata": {},
   "outputs": [
    {
     "name": "stdout",
     "output_type": "stream",
     "text": [
      "enter a number20\n",
      "1 2 4 8 16 32 64 128 256 512 1024 2048 4096 8192 16384 32768 65536 131072 262144 524288 "
     ]
    }
   ],
   "source": [
    "# Q11\n",
    "def square(n):\n",
    "    for i in range(n):\n",
    "        print(2**i,end=\" \")\n",
    "    return\n",
    "n=int(input(\"enter a number\"))\n",
    "square(n)"
   ]
  },
  {
   "cell_type": "code",
   "execution_count": 30,
   "metadata": {},
   "outputs": [
    {
     "name": "stdout",
     "output_type": "stream",
     "text": [
      "enter a string vinay\n",
      "enter a string  n\n"
     ]
    },
    {
     "data": {
      "text/plain": [
       "'vinay n'"
      ]
     },
     "execution_count": 30,
     "metadata": {},
     "output_type": "execute_result"
    }
   ],
   "source": [
    "#  Q9\n",
    "def comb(a,b):\n",
    "    c=a+b\n",
    "    return c \n",
    "a=str(input(\"enter a string \"))\n",
    "b=str(input(\"enter a string \"))\n",
    "comb(a,b)"
   ]
  },
  {
   "cell_type": "code",
   "execution_count": 32,
   "metadata": {},
   "outputs": [
    {
     "name": "stdout",
     "output_type": "stream",
     "text": [
      "enter a number20\n",
      "1 3 9 27 81 243 729 2187 6561 19683 59049 177147 531441 1594323 4782969 14348907 43046721 129140163 387420489 1162261467 "
     ]
    }
   ],
   "source": [
    "# Q12\n",
    "def square(n):\n",
    "    for i in range(n):\n",
    "        print(3**i,end=\" \")\n",
    "    return\n",
    "n=int(input(\"enter a number\"))\n",
    "square(n)"
   ]
  },
  {
   "cell_type": "code",
   "execution_count": 35,
   "metadata": {},
   "outputs": [
    {
     "name": "stdout",
     "output_type": "stream",
     "text": [
      "enter a stringpython\n",
      "enter a charo\n",
      "pythn\n"
     ]
    }
   ],
   "source": [
    "def delete(n,target):\n",
    "    c=0\n",
    "    for i in range(len(n)):\n",
    "        if n[i]==target:\n",
    "            c+=1\n",
    "    print(n.replace(target,\"\",c))\n",
    "n=str(input(\"enter a string\"))\n",
    "target=str(input(\"enter a char\"))\n",
    "delete(n,target)"
   ]
  },
  {
   "cell_type": "code",
   "execution_count": 37,
   "metadata": {},
   "outputs": [
    {
     "name": "stdout",
     "output_type": "stream",
     "text": [
      "enter n10\n"
     ]
    },
    {
     "data": {
      "text/plain": [
       "4037913"
      ]
     },
     "execution_count": 37,
     "metadata": {},
     "output_type": "execute_result"
    }
   ],
   "source": [
    "#Q14\n",
    "def fact(a):\n",
    "    f=1\n",
    "    for i in range (1,a+1):\n",
    "        f*=i\n",
    "    return f   \n",
    "def series(m):\n",
    "    s=0\n",
    "    for x in range (1,n+1):\n",
    "        s=s+fact(x)\n",
    "    return s\n",
    "n=int(input(\"enter n\"))\n",
    "series(n)"
   ]
  },
  {
   "cell_type": "code",
   "execution_count": null,
   "metadata": {},
   "outputs": [],
   "source": []
  }
 ],
 "metadata": {
  "kernelspec": {
   "display_name": "Python 3",
   "language": "python",
   "name": "python3"
  },
  "language_info": {
   "codemirror_mode": {
    "name": "ipython",
    "version": 3
   },
   "file_extension": ".py",
   "mimetype": "text/x-python",
   "name": "python",
   "nbconvert_exporter": "python",
   "pygments_lexer": "ipython3",
   "version": "3.7.3"
  }
 },
 "nbformat": 4,
 "nbformat_minor": 2
}
